{
 "cells": [
  {
   "cell_type": "markdown",
   "metadata": {},
   "source": [
    "<h1>TAREA 7</h1>\n",
    "<h2>Sergio Alejandro Diaz Pinilla</h2>\n",
    "<h2>Julian Camilo Mendez Corredor</h2>\n",
    "<br>\n",
    "<br>\n",
    "<h2>Punto 1</h2>\n",
    "\n",
    "<p>Implementar y evaluar el algoritmo de dilatación direccional.</p>\n",
    " <p> Implementar y evaluar el algoritmo de adelgazamiento por morfología matemática.<p>\n",
    "\n",
    "<h1 style=\"font-size:100%; background-color:rgba(70, 0, 700, 0.2); color:black; text-align:center; line-height : 30px;\">\n",
    "Visión de Máquina &#8212; F. Prieto </h1>"
   ]
  },
  {
   "cell_type": "code",
   "execution_count": 1,
   "metadata": {
    "collapsed": false
   },
   "outputs": [
    {
     "name": "stdout",
     "output_type": "stream",
     "text": [
      "Listo\n"
     ]
    }
   ],
   "source": [
    "%matplotlib inline\n",
    "import cv2\n",
    "from IPython.display import Image\n",
    "import numpy as np\n",
    "from matplotlib import pyplot as plt\n",
    "from __future__ import division\n",
    "\n",
    "# Imagenes de http://www.math.ucla.edu/~lvese/155.1.09w/\n",
    "img = cv2.imread('Fig/writing.png',0)\n",
    "print \"Listo\"\n"
   ]
  },
  {
   "cell_type": "code",
   "execution_count": 2,
   "metadata": {
    "collapsed": false
   },
   "outputs": [
    {
     "name": "stdout",
     "output_type": "stream",
     "text": [
      "294 96\n"
     ]
    }
   ],
   "source": [
    "def dfun(c1,c2):\n",
    "    pass\n",
    "def dir_dil(img, a2 , B = 1, a = 1):\n",
    "    ex = dfun(c1,c2)**2\n",
    "    D = B*img*a2*np.exp(-ex)\n",
    "    \n",
    "M = cv2.moments(img)\n",
    "cx = int(M['m10']/M['m00'])\n",
    "cy = int(M['m01']/M['m00'])\n",
    "\n",
    "print cx,cy"
   ]
  },
  {
   "cell_type": "code",
   "execution_count": 67,
   "metadata": {
    "collapsed": false
   },
   "outputs": [
    {
     "name": "stdout",
     "output_type": "stream",
     "text": [
      "[[1 1 1 1 1 1 1 1 1 1 1]\n",
      " [1 1 1 1 1 1 1 1 1 0 0]\n",
      " [1 1 1 1 1 1 1 1 1 0 0]\n",
      " [1 1 1 1 1 1 1 1 1 0 0]\n",
      " [1 1 1 0 0 1 1 1 1 0 0]]\n",
      "[[0 0 0 0 0 0 0 0 0 0 0]\n",
      " [0 0 0 0 0 0 0 0 0 0 0]\n",
      " [0 0 0 0 0 0 0 0 0 0 0]\n",
      " [0 0 0 0 0 0 0 0 0 0 0]\n",
      " [0 0 0 0 0 0 0 0 0 0 0]]\n",
      "[[0 0 0 0 0 0 0 0 0 0 0]\n",
      " [0 0 0 0 0 0 0 0 0 0 0]\n",
      " [0 0 0 0 0 0 0 0 0 0 0]\n",
      " [0 0 0 0 0 0 0 0 0 0 0]\n",
      " [0 0 0 0 0 0 0 0 0 0 0]]\n",
      "[[0 0 0 0 0 0 0 0 0 0 0]\n",
      " [0 0 0 0 0 0 0 0 0 0 0]\n",
      " [0 0 0 0 0 0 0 0 0 0 0]\n",
      " [0 0 0 0 0 0 0 0 0 0 0]\n",
      " [0 0 0 0 0 0 0 0 0 0 0]]\n",
      "[[0 0 0 0 0 0 0 0 0 0 0]\n",
      " [0 0 0 0 0 0 0 0 0 0 0]\n",
      " [0 0 0 0 0 0 0 0 0 0 0]\n",
      " [0 0 0 0 0 0 0 0 0 0 0]\n",
      " [0 0 0 0 0 0 0 0 0 0 0]]\n",
      "[[0 0 0 0 0 0 0 0 0 0 0]\n",
      " [0 0 0 0 0 0 0 0 0 0 0]\n",
      " [0 0 0 0 0 0 0 0 0 0 0]\n",
      " [0 0 0 0 0 0 0 0 0 0 0]\n",
      " [0 0 0 0 0 0 0 0 0 0 0]]\n",
      "[[0 0 0 0 0 0 0 0 0 0 0]\n",
      " [0 0 0 0 0 0 0 0 0 0 0]\n",
      " [0 0 0 0 0 0 0 0 0 0 0]\n",
      " [0 0 0 0 0 0 0 0 0 0 0]\n",
      " [0 0 0 0 0 0 0 0 0 0 0]]\n",
      "[[0 0 0 0 0 0 0 0 0 0 0]\n",
      " [0 0 0 0 0 0 0 0 0 0 0]\n",
      " [0 0 0 0 0 0 0 0 0 0 0]\n",
      " [0 0 0 0 0 0 0 0 0 0 0]\n",
      " [0 0 0 0 0 0 0 0 0 0 0]]\n"
     ]
    },
    {
     "data": {
      "text/plain": [
       "(<matplotlib.axes._subplots.AxesSubplot at 0x117c2b9d0>,\n",
       " <matplotlib.image.AxesImage at 0x115bce2d0>,\n",
       " <matplotlib.text.Text at 0x115f11650>)"
      ]
     },
     "execution_count": 67,
     "metadata": {},
     "output_type": "execute_result"
    },
    {
     "data": {
      "image/png": "[encoded data removed]",
      "text/plain": [
       "<matplotlib.figure.Figure at 0x116e57e50>"
      ]
     },
     "metadata": {},
     "output_type": "display_data"
    },
    {
     "data": {
      "image/png": "[encoded data removed]",
      "text/plain": [
       "<matplotlib.figure.Figure at 0x115c8b290>"
      ]
     },
     "metadata": {},
     "output_type": "display_data"
    }
   ],
   "source": [
    "from scipy import ndimage\n",
    "m = np.array([[0,0,0],[0,0,0],[1,1,1]], int)\n",
    "m2 = np.array([[0,0,0],[1,1,0],[1,1,0]], int)\n",
    "\n",
    "\n",
    "sintet = np.array(\n",
    "    [[1,1,1,1,1,1,1,1,1,1,1],\n",
    "     [1,1,1,1,1,1,1,1,1, 0 , 0 ],\n",
    "     [1,1,1,1,1,1,1,1,1, 0 , 0 ],\n",
    "     [1,1,1,1,1,1,1,1,1, 0 , 0 ],\n",
    "     [1,1,1, 0 , 0 ,1,1,1,1, 0 , 0 ]],int)\n",
    "\n",
    "rotation = []\n",
    "rotationInv = []\n",
    "for i in range(8):\n",
    "    rotation.append(np.zeros((3,3)))\n",
    "    if(i % 2 == 0):\n",
    "        rotation[i][1,1] = 1\n",
    "        rotation[i] += m\n",
    "        m = np.rot90(m,-1)\n",
    "    else:\n",
    "        rotation[i] += m2\n",
    "        m2 = np.rot90(m2,-1)\n",
    "\n",
    "res = sintet.copy()\n",
    "for structure in rotation:\n",
    "    print res\n",
    "    res = ndimage.binary_hit_or_miss(res, structure1=structure).astype(int)\n",
    "\n",
    "\n",
    "plt.figure(1,figsize=(15,5))\n",
    "plt.suptitle(\"Rotaciones\")\n",
    "for i in range(8):\n",
    "    plt.subplot(181+i), plt.imshow(rotation[i], cmap=plt.cm.gray), plt.title('B'+str(i))\n",
    "\n",
    "plt.figure(2,figsize=(15,5))\n",
    "plt.suptitle(\"Imagenes\")\n",
    "plt.subplot(131), plt.imshow(sintet, cmap=plt.cm.gray), plt.title('Original')\n",
    "plt.subplot(132), plt.imshow(res, cmap=plt.cm.gray), plt.title('Original')"
   ]
  },
  {
   "cell_type": "code",
   "execution_count": 52,
   "metadata": {
    "collapsed": false
   },
   "outputs": [
    {
     "data": {
      "image/png": "[encoded data removed]",
      "text/plain": [
       "<matplotlib.figure.Figure at 0x115fa8a10>"
      ]
     },
     "metadata": {},
     "output_type": "display_data"
    }
   ],
   "source": [
    "m = np.array([[0,0,0],[1,1,0],[1,1,0]], int)\n",
    "\n",
    "plt.figure(1)\n",
    "plt.suptitle(\"Rotaciones\")\n",
    "for i in range(8):\n",
    "    plt.subplot(181+i), plt.imshow(m, cmap=plt.cm.gray), plt.title('B'+str(i))\n",
    "    m = np.rot90(m,-1)"
   ]
  },
  {
   "cell_type": "code",
   "execution_count": null,
   "metadata": {
    "collapsed": true
   },
   "outputs": [],
   "source": []
  }
 ],
 "metadata": {
  "kernelspec": {
   "display_name": "Python 2",
   "language": "python",
   "name": "python2"
  },
  "language_info": {
   "codemirror_mode": {
    "name": "ipython",
    "version": 2
   },
   "file_extension": ".py",
   "mimetype": "text/x-python",
   "name": "python",
   "nbconvert_exporter": "python",
   "pygments_lexer": "ipython2",
   "version": "2.7.13"
  }
 },
 "nbformat": 4,
 "nbformat_minor": 2
}
