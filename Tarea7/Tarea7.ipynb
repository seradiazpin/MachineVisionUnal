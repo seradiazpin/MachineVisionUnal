{
 "cells": [
  {
   "cell_type": "markdown",
   "metadata": {},
   "source": [
    "<h1>TAREA 7</h1>\n",
    "<h2>Sergio Alejandro Diaz Pinilla</h2>\n",
    "<h2>Julian Camilo Mendez Corredor</h2>\n",
    "<br>\n",
    "<br>\n",
    "<h2>Punto 1</h2>\n",
    "\n",
    "<p>Implementar y evaluar el algoritmo de dilatación direccional.</p>\n",
    "\n",
    "\n",
    "<h1 style=\"font-size:100%; background-color:rgba(70, 0, 700, 0.2); color:black; text-align:center; line-height : 30px;\">\n",
    "Visión de Máquina &#8212; F. Prieto </h1>"
   ]
  },
  {
   "cell_type": "code",
   "execution_count": 1,
   "metadata": {
    "collapsed": false
   },
   "outputs": [
    {
     "name": "stdout",
     "output_type": "stream",
     "text": [
      "Listo\n"
     ]
    }
   ],
   "source": [
    "%matplotlib inline\n",
    "import cv2\n",
    "from IPython.display import Image\n",
    "import numpy as np\n",
    "from matplotlib import pyplot as plt\n",
    "from __future__ import division\n",
    "\n",
    "print \"Listo\"\n"
   ]
  },
  {
   "cell_type": "code",
   "execution_count": 6,
   "metadata": {
    "collapsed": false
   },
   "outputs": [
    {
     "data": {
      "image/png": "[encoded data removed]",
      "text/plain": [
       "<matplotlib.figure.Figure at 0x10c3b2090>"
      ]
     },
     "metadata": {},
     "output_type": "display_data"
    }
   ],
   "source": [
    "def createDirection():\n",
    "    \n",
    "    \n",
    "    kernelDir = np.array([[0,0,0],[0,1,1],[0,0,0]], int)\n",
    "    kernelDir2 = np.array([[0,0,0],[0,1,0],[0,0,1]], int)\n",
    "    \n",
    "    rotation = []\n",
    "\n",
    "    for i in range(8):\n",
    "        rotation.append(np.zeros((3,3)))\n",
    "        if(i % 2 == 0):            \n",
    "            rotation[i] += kernelDir\n",
    "            kernelDir = np.rot90(kernelDir,-1)        \n",
    "        else:            \n",
    "            rotation[i] += kernelDir2\n",
    "            kernelDir2 = np.rot90(kernelDir2,-1)         \n",
    "\n",
    "    return rotation\n",
    "\n",
    "def dfun(c1,c2):\n",
    "    pass\n",
    "def dir_dil(img, a2 , B = 1, a = 1):\n",
    "    ex = dfun(c1,c2)**2\n",
    "    D = B*img*a2*np.exp(-ex)\n",
    "    \n",
    "#M = cv2.moments(img)\n",
    "#cx = int(M['m10']/M['m00'])\n",
    "#cy = int(M['m01']/M['m00'])\n",
    "\n",
    "directions = createDirection()\n",
    "\n",
    "plt.figure(2,figsize=(16,2))\n",
    "plt.suptitle(\"Direction\")\n",
    "for i in range(8):\n",
    "    plt.subplot(181+i), plt.imshow(directions[i], cmap=plt.cm.gray), plt.title('B'+str(i))\n",
    "#print cx,cy"
   ]
  },
  {
   "cell_type": "markdown",
   "metadata": {},
   "source": [
    "<h2>Punto 2</h2>\n",
    "\n",
    " <p> Implementar y evaluar el algoritmo de adelgazamiento por morfología matemática.<p>\n",
    "<h1 style=\"font-size:100%; background-color:rgba(70, 0, 700, 0.2); color:black; text-align:center; line-height : 30px;\">\n",
    "Visión de Máquina &#8212; F. Prieto </h1>"
   ]
  },
  {
   "cell_type": "code",
   "execution_count": 8,
   "metadata": {
    "collapsed": false
   },
   "outputs": [
    {
     "data": {
      "image/png": "[encoded data removed]",
      "text/plain": [
       "<matplotlib.figure.Figure at 0x1c5cdba8>"
      ]
     },
     "metadata": {},
     "output_type": "display_data"
    },
    {
     "data": {
      "image/png": "[encoded data removed]",
      "text/plain": [
       "<matplotlib.figure.Figure at 0x1f16a668>"
      ]
     },
     "metadata": {},
     "output_type": "display_data"
    },
    {
     "data": {
      "image/png": "[encoded data removed]",
      "text/plain": [
       "<matplotlib.figure.Figure at 0x1c5b8da0>"
      ]
     },
     "metadata": {},
     "output_type": "display_data"
    }
   ],
   "source": [
    "from scipy import ndimage\n",
    "\n",
    "def createKernel():\n",
    "    \n",
    "    kernelhit = np.array([[0,0,0],[0,1,0],[1,1,1]], int)\n",
    "    kernelhit2 = np.array([[0,0,0],[1,1,0],[1,1,0]], int)\n",
    "    kernelmiss = np.array([[1,1,1],[0,0,0],[0,0,0]], int)\n",
    "    kernelmiss2 = np.array([[0,1,1],[0,0,1],[0,0,0]], int)\n",
    "    \n",
    "    rotation = []\n",
    "    rotationInv = []\n",
    "\n",
    "    for i in range(8):\n",
    "        rotation.append(np.zeros((3,3)))\n",
    "        rotationInv.append(np.zeros((3,3)))\n",
    "        if(i % 2 == 0):            \n",
    "            rotation[i] += kernelhit\n",
    "            kernelhit = np.rot90(kernelhit,-1)        \n",
    "            rotationInv[i] += kernelmiss\n",
    "            kernelmiss = np.rot90(kernelmiss,-1)\n",
    "        else:            \n",
    "            rotation[i] += kernelhit2\n",
    "            kernelhit2 = np.rot90(kernelhit2,-1)         \n",
    "            rotationInv[i] += kernelmiss2\n",
    "            kernelmiss2 = np.rot90(kernelmiss2,-1)\n",
    "\n",
    "    return rotation,rotationInv\n",
    "\n",
    "def thinning(binary, rotation,rotationInv):\n",
    "        \n",
    "    res=np.zeros((binary.shape))\n",
    "    plt.figure(1,figsize=(15,5))\n",
    "    \n",
    "    while True:\n",
    "        actual=binary.copy()\n",
    "        \n",
    "        for i in range(8):  \n",
    "            res = ndimage.binary_hit_or_miss(binary, structure1=rotation[i],structure2=rotationInv[i])\n",
    "            binary =np.uint8(binary+res)\n",
    "            \n",
    "        if( not(np.bitwise_xor(actual,binary).any())):\n",
    "            return binary\n",
    "        \n",
    "img = cv2.imread('Fig/prueba.png',0)\n",
    "ret, original = cv2.threshold(img,127,255,cv2.THRESH_BINARY)\n",
    "rotation, rotationInv = createKernel()\n",
    "skeleton=thinning(original,rotation,rotationInv)\n",
    "\n",
    "\n",
    "plt.figure(1,figsize=(10,5))\n",
    "plt.suptitle(\"Adelgazamiento\")\n",
    "plt.subplot(121), plt.imshow(original, cmap=plt.cm.gray), plt.title('Original')\n",
    "plt.subplot(122), plt.imshow(skeleton, cmap=plt.cm.gray), plt.title('Final')\n",
    "plt.figure(2,figsize=(16,2))\n",
    "plt.suptitle(\"Kernel Hit\")\n",
    "for i in range(8):\n",
    "    plt.subplot(181+i), plt.imshow(rotation[i], cmap=plt.cm.gray), plt.title('B'+str(i))\n",
    "plt.figure(3,figsize=(16,2))\n",
    "plt.suptitle(\"Kernel Miss\")\n",
    "for i in range(8):\n",
    "    plt.subplot(181+i), plt.imshow(rotationInv[i], cmap=plt.cm.gray), plt.title('B'+str(i))\n",
    "\n"
   ]
  },
  {
   "cell_type": "code",
   "execution_count": 10,
   "metadata": {
    "collapsed": false
   },
   "outputs": [
    {
     "data": {
      "text/plain": [
       "(<matplotlib.axes._subplots.AxesSubplot at 0x4135e10>,\n",
       " <matplotlib.image.AxesImage at 0x1c448780>,\n",
       " <matplotlib.text.Text at 0x1bd4e9e8>)"
      ]
     },
     "execution_count": 10,
     "metadata": {},
     "output_type": "execute_result"
    },
    {
     "data": {
      "image/png": "[encoded data removed]",
      "text/plain": [
       "<matplotlib.figure.Figure at 0x1b503f98>"
      ]
     },
     "metadata": {},
     "output_type": "display_data"
    }
   ],
   "source": [
    "img2 = cv2.imread('Fig/prueba2.jpg',0)\n",
    "ret, original2 = cv2.threshold(img2,127,255,cv2.THRESH_BINARY)\n",
    "skeleton=thinning(original2,rotation,rotationInv)\n",
    "\n",
    "\n",
    "plt.figure(1,figsize=(10,5))\n",
    "plt.suptitle(\"Adelgazamiento\")\n",
    "plt.subplot(121), plt.imshow(original2, cmap=plt.cm.gray), plt.title('Original')\n",
    "plt.subplot(122), plt.imshow(skeleton, cmap=plt.cm.gray), plt.title('Final')\n"
   ]
  },
  {
   "cell_type": "code",
   "execution_count": null,
   "metadata": {
    "collapsed": true
   },
   "outputs": [],
   "source": []
  }
 ],
 "metadata": {
  "kernelspec": {
   "display_name": "Python 2",
   "language": "python",
   "name": "python2"
  },
  "language_info": {
   "codemirror_mode": {
    "name": "ipython",
    "version": 2
   },
   "file_extension": ".py",
   "mimetype": "text/x-python",
   "name": "python",
   "nbconvert_exporter": "python",
   "pygments_lexer": "ipython2",
   "version": "2.7.13"
  }
 },
 "nbformat": 4,
 "nbformat_minor": 2
}
