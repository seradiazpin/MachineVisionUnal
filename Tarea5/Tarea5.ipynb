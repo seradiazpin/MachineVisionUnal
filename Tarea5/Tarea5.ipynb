{
 "cells": [
  {
   "cell_type": "markdown",
   "metadata": {},
   "source": [
    "<h1>TAREA 5</h1>\n",
    "<h2>Sergio Alejandro Diaz Pinilla</h2>\n",
    "<h2>Julian Camilo Mendez Corredor</h2>\n",
    "<br>\n",
    "<br>\n",
    "<h2>Punto 1</h2>\n",
    "\n",
    "<p>Implemente, como una función de OpenCV, los filtros Chebyshev Tipo I: pasa-bajo, pasa-alto y pasa-banda.</p>\n",
    "<p>Con imágenes sintéticas y reales, evaluar las técnicas de realce de imágenes, tanto en el dominio espacial como en el dominio frecuencial.</p>\n",
    "<h1 style=\"font-size:100%; background-color:rgba(70, 0, 700, 0.2); color:black; text-align:center; line-height : 30px;\">\n",
    "Visión de Máquina &#8212; F. Prieto </h1>"
   ]
  },
  {
   "cell_type": "code",
   "execution_count": 1,
   "metadata": {
    "collapsed": false
   },
   "outputs": [
    {
     "name": "stdout",
     "output_type": "stream",
     "text": [
      "Listo\n"
     ]
    }
   ],
   "source": [
    "%matplotlib inline\n",
    "import cv2\n",
    "import time\n",
    "from IPython.display import Image\n",
    "import numpy as np\n",
    "from matplotlib import pyplot as plt\n",
    "from __future__ import division\n",
    "from scipy.fftpack import dst,idst\n",
    "#from scipy.fftpack import fft, fftfreq\n",
    "import pywt\n",
    "\n",
    "img = cv2.imread('Fig/face.png',0)\n",
    "print \"Listo\"\n"
   ]
  },
  {
   "cell_type": "code",
   "execution_count": 11,
   "metadata": {
    "collapsed": false,
    "scrolled": true
   },
   "outputs": [
    {
     "data": {
      "text/plain": [
       "(<matplotlib.axes._subplots.AxesSubplot at 0x11a413850>,\n",
       " <matplotlib.image.AxesImage at 0x11a602810>,\n",
       " <matplotlib.text.Text at 0x11a5cb8d0>)"
      ]
     },
     "execution_count": 11,
     "metadata": {},
     "output_type": "execute_result"
    },
    {
     "data": {
      "image/png": "[encoded data removed]",
      "text/plain": [
       "<matplotlib.figure.Figure at 0x11a2b9f50>"
      ]
     },
     "metadata": {},
     "output_type": "display_data"
    }
   ],
   "source": [
    "from scipy import signal\n",
    "fs = 100\n",
    "fill = signal.cheby1(100,5,[0.1/(fs/2),10.0/(fs/2)],btype='band',analog=0,output='ba')\n",
    "plt.figure(1,figsize=(15,5))\n",
    "plt.suptitle('Prueba transformada de hartley')\n",
    "plt.subplot(131), plt.imshow(fill, cmap=plt.cm.gray), plt.title('Imagen Original')"
   ]
  },
  {
   "cell_type": "code",
   "execution_count": null,
   "metadata": {
    "collapsed": true
   },
   "outputs": [],
   "source": []
  }
 ],
 "metadata": {
  "kernelspec": {
   "display_name": "Python 2",
   "language": "python",
   "name": "python2"
  },
  "language_info": {
   "codemirror_mode": {
    "name": "ipython",
    "version": 2
   },
   "file_extension": ".py",
   "mimetype": "text/x-python",
   "name": "python",
   "nbconvert_exporter": "python",
   "pygments_lexer": "ipython2",
   "version": "2.7.13"
  }
 },
 "nbformat": 4,
 "nbformat_minor": 2
}
