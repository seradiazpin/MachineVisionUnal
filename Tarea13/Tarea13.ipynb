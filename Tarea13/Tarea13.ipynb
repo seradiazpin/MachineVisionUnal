{
 "cells": [
  {
   "cell_type": "markdown",
   "metadata": {},
   "source": [
    "<h1>TAREA 13</h1>\n",
    "<h2>Sergio Alejandro Diaz Pinilla</h2>\n",
    "<h2>Julian Camilo Mendez Corredor</h2>\n",
    "<br>\n",
    "<br>\n",
    "\n",
    "<li>Implementar los metodods de clasificacion vistos en clase</li>\n",
    "\n",
    "<h1 style=\"font-size:100%; background-color:rgba(70, 0, 700, 0.2); color:black; text-align:center; line-height : 30px;\">\n",
    "Visión de Máquina &#8212; F. Prieto </h1>"
   ]
  },
  {
   "cell_type": "code",
   "execution_count": 1,
   "metadata": {
    "collapsed": false
   },
   "outputs": [
    {
     "name": "stdout",
     "output_type": "stream",
     "text": [
      "3.2.0\n"
     ]
    }
   ],
   "source": [
    "import cv2\n",
    "from matplotlib import pyplot as plt\n",
    "from matplotlib.colors import ListedColormap\n",
    "import numpy as np\n",
    "import time as t\n",
    "print cv2.__version__\n",
    "from scipy import signal\n",
    "from scipy import misc\n",
    "from sklearn import datasets\n",
    "from sklearn.decomposition import PCA\n",
    "from sklearn.discriminant_analysis import LinearDiscriminantAnalysis\n",
    "import ast"
   ]
  },
  {
   "cell_type": "code",
   "execution_count": 2,
   "metadata": {
    "collapsed": false
   },
   "outputs": [
    {
     "name": "stdout",
     "output_type": "stream",
     "text": [
      "30\n",
      "15\n"
     ]
    }
   ],
   "source": [
    "training = \"\"\"[[2.16336449e-01, 8.06259636e-03, 2.66835029e-04, 3.08080166e-04\n",
    ",6.10442488e-08, 2.71470248e-05,-6.38443795e-08],\n",
    " [2.24277028e-01, 7.44027906e-03, 3.59688081e-04, 3.80507551e-04\n",
    ",5.68611696e-08, 3.10515018e-05, 1.28774231e-07],\n",
    " [2.16990058e-01, 6.67924161e-03, 3.12687384e-04, 3.16085785e-04\n",
    ",6.93920236e-08, 2.13379182e-05,-7.11300049e-08],\n",
    " [2.22029494e-01, 4.09905894e-03, 2.50730774e-04, 3.68878425e-04\n",
    ",3.71029924e-08, 1.86387446e-05,-1.05870153e-07],\n",
    " [2.23753070e-01, 4.29740858e-03, 7.43275997e-04, 3.24075395e-04\n",
    ", -1.25255006e-07, 7.91324037e-06,-9.80270656e-08],\n",
    " [2.28940958e-01, 3.33419740e-03, 4.72130057e-04, 4.38273789e-04\n",
    ", -6.01409361e-08, 1.63756597e-05, 1.90077614e-07],\n",
    " [1.69744938e-01, 2.15815742e-03, 1.37836960e-04, 1.97996730e-06\n",
    ",8.13926894e-12,-1.90858047e-08,-3.16803379e-11],\n",
    " [1.65607742e-01, 7.57147465e-04, 8.36461900e-05, 2.07442142e-06\n",
    ",2.66224806e-11, 4.83921960e-08, 6.15857230e-12],\n",
    " [1.85524486e-01, 3.44110649e-03, 1.93932002e-05, 7.46807179e-06\n",
    ", -7.13809393e-11,-3.98455486e-07, 5.46097398e-11],\n",
    " [1.69926388e-01, 2.56557585e-03, 5.81100462e-05, 1.39828334e-06\n",
    ",8.37381966e-12, 1.73207670e-08,-9.42057690e-12],\n",
    " [1.77557611e-01, 4.40868722e-03, 2.57859702e-04, 1.09720686e-05\n",
    ",4.97419642e-10, 5.44514390e-07, 3.05249298e-10],\n",
    " [1.67193271e-01, 1.90295558e-03, 6.45973898e-05, 1.16949119e-06\n",
    ",3.03642073e-12, 8.00878165e-09, 9.70078595e-12],\n",
    " [2.20412994e-01, 1.59354560e-02, 3.69338245e-03, 1.35264341e-03\n",
    ",2.99119896e-06, 1.65812542e-04,-4.39680776e-07],\n",
    " [2.50662702e-01, 2.81535833e-02, 6.94344131e-03, 2.69131200e-03\n",
    ",1.16332229e-05, 4.51516501e-04, 1.44294666e-07],\n",
    " [2.42708479e-01, 2.50133076e-02, 3.79865341e-03, 1.70043134e-03\n",
    ",4.30921985e-06, 2.68906491e-04, 3.28051722e-07],\n",
    " [3.54936037e-01, 9.06646333e-02, 5.00546248e-03, 7.44842960e-04\n",
    ",3.41851875e-07,-6.03082304e-05, 1.39698087e-06],\n",
    " [3.15341450e-01, 5.88656405e-02, 8.78926662e-03, 3.15193442e-03\n",
    ",1.60876493e-05, 5.31236200e-04,-4.05094834e-06],\n",
    " [2.18552286e-01, 1.55507921e-02, 3.20614247e-03, 1.32240356e-03\n",
    ",2.71030849e-06, 1.58112398e-04, 2.61931106e-07],\n",
    " [2.36737235e-01, 5.53886286e-03, 2.10963082e-03, 8.96605987e-04\n",
    ", -7.34890210e-09, 6.63368114e-05,-1.23309907e-06],\n",
    " [2.28710642e-01, 9.62582633e-03, 1.32375653e-03, 8.56619872e-04\n",
    ",7.17354761e-07, 8.40436411e-05, 5.63468237e-07],\n",
    " [2.58978044e-01, 1.44193634e-02, 2.00665102e-03, 1.99138576e-03\n",
    ",3.39947615e-06, 2.24862873e-04, 2.07128773e-06],\n",
    " [2.71706965e-01, 2.64966275e-02, 3.29578855e-03, 2.06938965e-03\n",
    ",5.25035032e-06, 2.97201101e-04, 1.28092482e-06],\n",
    " [2.53937843e-01, 1.88344317e-02, 1.97143872e-03, 1.46612891e-03\n",
    ",2.23375815e-06, 1.90013353e-04,-1.10602965e-06],\n",
    " [3.50599338e-01, 7.73344377e-02, 6.00752375e-04, 1.34710655e-05\n",
    ",9.39887038e-10,-3.46398227e-06, 7.64986908e-10],\n",
    " [1.95954083e-01, 1.19293474e-02, 8.91580990e-05, 8.54505046e-06\n",
    ",1.93403961e-10, 7.21491342e-07,-1.34997588e-10],\n",
    " [1.99701216e-01, 1.18422228e-02, 9.12300186e-04, 1.10907503e-04\n",
    ",3.50641491e-08, 1.20514639e-05, 3.88315854e-09],\n",
    " [2.45025727e-01, 1.75783072e-02, 1.77599570e-03, 6.47778152e-04\n",
    ",6.17971447e-07, 8.07105838e-05,-3.17584069e-07],\n",
    " [2.56962737e-01, 3.30672803e-02, 1.09131447e-03, 7.73690531e-05\n",
    ", -1.27721954e-08,-1.25285885e-05,-1.85010879e-08],\n",
    " [1.74686203e-01, 3.96250754e-03, 9.44910260e-05, 4.52294924e-06\n",
    ", -9.33610660e-11,-2.66160546e-07, 5.15899927e-12],\n",
    " [1.84275871e-01, 4.12013577e-03, 6.38275811e-04, 1.21120246e-04\n",
    ",3.32934490e-08, 7.71131521e-06,-5.06608728e-09]]\"\"\"\n",
    "\n",
    "test=\"\"\"[[2.21524081e-01, 3.36039460e-03, 7.49465778e-04, 3.77694914e-04\n",
    ",1.24798118e-08, 1.82150181e-05, 2.00561916e-07],\n",
    " [2.13806848e-01, 5.46422299e-03, 4.04720966e-04, 2.81315655e-04\n",
    ",3.54808957e-08, 2.07697778e-05, 8.80418522e-08],\n",
    " [2.16624655e-01, 9.42604371e-03, 1.47299585e-04, 2.10055958e-04\n",
    ",1.24631803e-08, 2.03862859e-05,-3.47836366e-08],\n",
    " [3.07650349e-01, 4.57447790e-02, 3.73611964e-03, 2.53132528e-04\n",
    ",2.44619651e-07, 5.09433345e-05, 2.75701414e-08],\n",
    " [2.56742866e-01, 1.83647693e-02, 1.79195796e-03, 4.41331985e-05\n",
    ",4.87007976e-09, 4.88036715e-06,-1.14157330e-08],\n",
    " [1.77705187e-01, 4.06096483e-03, 2.02344447e-04, 5.89184448e-06\n",
    ", -1.79484306e-10,-3.75459829e-07, 9.57631948e-11],\n",
    " [1.75060513e-01, 4.12280886e-03, 2.41857341e-04, 6.76338824e-06\n",
    ", -1.38095220e-10,-2.84339241e-07,-2.36126361e-10],\n",
    " [2.65932491e-01, 3.71177798e-02, 3.47338224e-03, 8.59399086e-04\n",
    ",1.30944061e-06, 1.25322047e-04,-7.00002173e-07],\n",
    " [2.20695383e-01, 1.79076344e-02, 1.66645202e-03, 2.74587228e-04\n",
    ",1.49315233e-07, 2.50297875e-05, 1.10481357e-07],\n",
    " [1.74494446e-01, 4.42953731e-03, 7.64291222e-05, 3.00519045e-06\n",
    ", -2.48271520e-11,-1.29215572e-07,-3.81828273e-11],\n",
    " [2.96008259e-01, 4.31736785e-02, 3.82693455e-04, 6.71719557e-04\n",
    ",1.01013367e-07, 1.38528845e-04,-3.25245786e-07],\n",
    " [2.35008816e-01, 1.29349913e-02, 1.95131924e-03, 8.87766623e-04\n",
    ",1.10799467e-06, 9.46627503e-05, 3.70995110e-07],\n",
    " [2.52032541e-01, 6.67878280e-03, 6.00884552e-03, 2.67098636e-03\n",
    ",8.06326357e-06, 2.08478702e-04, 7.03448145e-06],\n",
    " [1.86853830e-01, 7.35604863e-03, 4.84476442e-04, 4.16392210e-05\n",
    ",5.24904520e-09, 3.15465870e-06,-2.72476697e-09],\n",
    " [1.87023983e-01, 6.27875406e-03, 7.65676075e-04, 4.45676620e-05\n",
    ",7.90554435e-09, 3.50618175e-06, 2.29844458e-09]]\"\"\"\n",
    "\n",
    "training = ast.literal_eval(training)\n",
    "test = ast.literal_eval(test)\n",
    "print len(training)\n",
    "print len(test)"
   ]
  },
  {
   "cell_type": "code",
   "execution_count": 3,
   "metadata": {
    "collapsed": false
   },
   "outputs": [
    {
     "data": {
      "image/png": "[encoded data removed]",
      "text/plain": [
       "<matplotlib.figure.Figure at 0x10abe6210>"
      ]
     },
     "metadata": {},
     "output_type": "display_data"
    }
   ],
   "source": [
    "ones= np.ones(6)\n",
    "resTraining = np.array(np.concatenate((ones*0,ones*1,ones*2,ones*3,ones*4)))\n",
    "resTest = np.array([0,0,0,0,0,1,1,1,1,1,3,3,3,4,4])\n",
    "res=np.concatenate((resTraining,resTest))\n",
    "target_names = [\"palma\",\"puno\",\"izquierda\",\"derecha\",\"movimiento\"]\n",
    "lda = LinearDiscriminantAnalysis(n_components=2)\n",
    "dataLda = lda.fit(np.concatenate((training,test)), res).transform(np.concatenate((training,test)))\n",
    "plt.figure()\n",
    "colors = ['navy', 'turquoise', 'darkorange','green','red']\n",
    "lw = 2   \n",
    "for color, i, target_name in zip(colors, [0, 1, 2,3,4], target_names):\n",
    "    plt.scatter(dataLda[res == i, 0], dataLda[res == i, 1], alpha=.8, color=color,\n",
    "                label=target_name)\n",
    "plt.legend(loc='best', shadow=False, scatterpoints=1)\n",
    "plt.title('LDA for gestures')\n",
    "plt.show()\n"
   ]
  },
  {
   "cell_type": "code",
   "execution_count": 137,
   "metadata": {
    "collapsed": false
   },
   "outputs": [
    {
     "name": "stdout",
     "output_type": "stream",
     "text": [
      "BAYES\n",
      "--------------------------------\n",
      "Para el mismo conjunto de datos:\n",
      "prediccion: [0 0 0 0 0 0 1 1 1 1 1 1 2 2 2 2 2 2 3 3 3 3 3 3 4 4 4 4 1 4]\n",
      "solucion  : [0 0 0 0 0 0 1 1 1 1 1 1 2 2 2 2 2 2 3 3 3 3 3 3 4 4 4 4 4 4]\n",
      "aciertos: 29.0\n",
      "fallos: 1.0\n",
      "efectividad: 0.966667\n",
      "\n",
      "Para los datos de prueba:\n",
      "prediccion: [0 0 0 0 3 1 1 2 4 4 3 3 3 4 1]\n",
      "solucion  : [0 0 0 0 0 1 1 1 1 1 3 3 3 4 4]\n",
      "aciertos: 10.0\n",
      "fallos: 5.0\n",
      "efectividad: 0.666667\n",
      "\n"
     ]
    }
   ],
   "source": [
    "def compare(pred,sol):\n",
    "    hits=0\n",
    "    miss=0\n",
    "    for i in range(len(pred)):\n",
    "        if(pred[i]==sol[i]):\n",
    "            hits+=1.0\n",
    "        else:\n",
    "            miss+=1.0\n",
    "    print \"prediccion: \"+str(np.uint8(pred))\n",
    "    print \"solucion  : \"+str(sol)\n",
    "    print \"aciertos: \"+str(hits)\n",
    "    print \"fallos: \"+str(miss)\n",
    "    print \"efectividad: \"+ str(np.float32(hits/(miss+hits)))\n",
    "    print \"\"\n",
    "        \n",
    "classifier=cv2.ml.NormalBayesClassifier_create()\n",
    "sampleTraining= np.array(dataLda[:30], dtype=np.float32)\n",
    "sampleTest= np.array(dataLda[30:], dtype=np.float32)\n",
    "resTraining = np.array(resTraining, dtype=np.int32)\n",
    "classifier.train(sampleTraining,cv2.ml.ROW_SAMPLE,resTraining)\n",
    "predNBCTraining= classifier.predictProb(sampleTraining)[1].flatten()\n",
    "predNBCTest= classifier.predictProb(sampleTest)[1].flatten()\n",
    "print \"BAYES\"\n",
    "print \"--------------------------------\"\n",
    "print \"Para el mismo conjunto de datos:\"\n",
    "compare(predNBCTraining,resTraining)\n",
    "\n",
    "print \"Para los datos de prueba:\"\n",
    "compare(predNBCTest,resTest)\n"
   ]
  },
  {
   "cell_type": "code",
   "execution_count": 128,
   "metadata": {
    "collapsed": false
   },
   "outputs": [],
   "source": [
    "import operator\n",
    "\n",
    "def bayes_classifier(x_vec, kdes):\n",
    "    \"\"\"\n",
    "    Classifies an input sample into class w_j determined by\n",
    "    maximizing the class conditional probability for p(x|w_j).\n",
    "\n",
    "    Keyword arguments:\n",
    "        x_vec: A dx1 dimensional numpy array representing the sample.\n",
    "        kdes: List of the gausssian_kde (kernel density) estimates\n",
    "\n",
    "    Returns a tuple ( p(x|w_j)_value, class label ).\n",
    "\n",
    "    \"\"\"\n",
    "    p_vals = []\n",
    "    for kde in kdes:\n",
    "        p_vals.append(kde.evaluate(x_vec))\n",
    "    \n",
    "    max_index, max_value = max(enumerate(p_vals), key=operator.itemgetter(1))\n",
    "    return (max_value, max_index + 1)\n",
    "\n",
    "\n",
    "from scipy.stats import kde\n",
    "training_ans = [0,0,0,0,0,0,1,1,1,1,1,1,2,2,2,2,2,2,3,3,3,3,3,3,4,4,4,4,4]\n",
    "copy = np.array(training)\n",
    "\n",
    "itemindex,  = np.where(np.array(training_ans) == 0)\n",
    "class1_kde = kde.gaussian_kde(copy[np.array(itemindex)].T,\n",
    "        bw_method='scott')\n",
    "itemindex,  = np.where(np.array(training_ans) == 1)\n",
    "class2_kde = kde.gaussian_kde(copy[np.array(itemindex)].T,\n",
    "        bw_method='scott')\n",
    "itemindex,  = np.where(np.array(training_ans) == 2)\n",
    "class3_kde = kde.gaussian_kde(copy[np.array(itemindex)].T,\n",
    "        bw_method='scott')\n",
    "itemindex,  = np.where(np.array(training_ans) == 3)\n",
    "class4_kde = kde.gaussian_kde(copy[np.array(itemindex)].T,\n",
    "        bw_method='scott')\n",
    "itemindex,  = np.where(np.array(training_ans) == 4)\n",
    "class5_kde = kde.gaussian_kde(copy[np.array(itemindex)].T,\n",
    "        bw_method='scott')"
   ]
  },
  {
   "cell_type": "code",
   "execution_count": 135,
   "metadata": {
    "collapsed": false
   },
   "outputs": [
    {
     "name": "stdout",
     "output_type": "stream",
     "text": [
      "|Training Data  |0|1|2|3|4|\n",
      "________________________________________\n",
      "|Clase(actual)0 |0|3|0|0|2|\n",
      "________________________________________\n",
      "|Clase(actual)1 |0|5|0|0|0|\n",
      "________________________________________\n",
      "|Clase(actual)2 |0|0|0|0|0|\n",
      "________________________________________\n",
      "|Clase(actual)3 |0|3|0|0|0|\n",
      "________________________________________\n",
      "|Clase(actual)4 |0|2|0|0|0|\n"
     ]
    }
   ],
   "source": [
    "def empirical_error(data_set, classes, classifier_func, classifier_func_args):\n",
    "    \"\"\"\n",
    "    Keyword arguments:\n",
    "        data_set: 'n x d'- dimensional numpy array, class label in the last column.\n",
    "        classes: List of the class labels.\n",
    "        classifier_func: Function that returns the max argument from the discriminant function.\n",
    "            evaluation and the class label as a tuple.\n",
    "        classifier_func_args: List of arguments for the 'classifier_func'.\n",
    "    \n",
    "    Returns a tuple, consisting of a dictionary withthe classif. counts and the error.\n",
    "    \n",
    "    e.g., ( {1: {1: 321, 2: 5}, 2: {1: 0, 2: 317}}, 0.05)\n",
    "    where keys are class labels, and values are sub-dicts counting for which class (key)\n",
    "    how many samples where classified as such.\n",
    "    \n",
    "    \"\"\"\n",
    "    class_dict = {i:{j:0 for j in classes} for i in classes}\n",
    "   \n",
    "    for cl in classes:\n",
    "        for row in data_set[data_set[:,-1] == cl][:,:-1]:\n",
    "            g = classifier_func(row, *classifier_func_args)\n",
    "            class_dict[cl][g[1]] += 1\n",
    "    \n",
    "    correct = 0\n",
    "    for i in classes:\n",
    "        correct += class_dict[i][i]\n",
    "    \n",
    "    misclass = data_set.shape[0] - correct\n",
    "    return (class_dict, misclass / data_set.shape[0])\n",
    "#print np.array([[0,0,0,0,0,1,1,1,1,1,3,3,3,4,4]]).T\n",
    "test_cp = np.concatenate((test, np.array([[0,0,0,0,0,1,1,1,1,1,3,3,3,4,4]]).T), 1)\n",
    "\n",
    "classification_dict, error = empirical_error(test_cp, [0,1,2,3,4], bayes_classifier, [[class1_kde, class2_kde, class4_kde,class5_kde]])\n",
    "print \n",
    "print \"|Training Data  |0|1|2|3|4|\"\n",
    "for k, v in classification_dict.iteritems():\n",
    "    print \"________________________________________\"\n",
    "    s = \"|Clase(actual)\"+str(k)+\" |\"\n",
    "    for k1,v1 in v.iteritems():\n",
    "        s +=str(v1) +\"|\"\n",
    "    print s\n",
    "\n",
    "\n"
   ]
  },
  {
   "cell_type": "code",
   "execution_count": 105,
   "metadata": {
    "collapsed": false
   },
   "outputs": [
    {
     "name": "stdout",
     "output_type": "stream",
     "text": [
      "Para el mismo conjunto de datos:\n",
      "prediccion: [0 0 0 0 0 0 1 1 4 1 1 1 2 2 2 2 2 2 3 3 3 3 3 3 4 4 0 4 1 4]\n",
      "solucion  : [0 0 0 0 0 0 1 1 1 1 1 1 2 2 2 2 2 2 3 3 3 3 3 3 4 4 4 4 4 4]\n",
      "aciertos: 27.0\n",
      "fallos: 3.0\n",
      "efectividad: 0.9\n",
      "\n",
      "Para los datos de prueba:\n",
      "prediccion: [0 0 0 0 0 4 1 2 4 1 3 3 3 4 4]\n",
      "solucion  : [0 0 0 0 0 1 1 1 1 1 3 3 3 4 4]\n",
      "aciertos: 12.0\n",
      "fallos: 3.0\n",
      "efectividad: 0.8\n",
      "\n"
     ]
    }
   ],
   "source": [
    "knn = cv2.ml.KNearest_create()\n",
    "knn.train(sampleTraining,cv2.ml.ROW_SAMPLE,resTraining)\n",
    "predKNNTraining= knn.findNearest(sampleTraining,3)[1].flatten()\n",
    "predKNNTest= knn.findNearest(sampleTest,3)[1].flatten()\n",
    "print \"Para el mismo conjunto de datos:\"\n",
    "compare(predKNNTraining,resTraining)\n",
    "\n",
    "print \"Para los datos de prueba:\"\n",
    "compare(predKNNTest,resTest)"
   ]
  },
  {
   "cell_type": "code",
   "execution_count": 37,
   "metadata": {
    "collapsed": false
   },
   "outputs": [
    {
     "name": "stdout",
     "output_type": "stream",
     "text": [
      "('mu_vec2\\n', array([[3],\n",
      "       [0]]))\n",
      "('cov_mat2\\n', array([[ 2.,  0.],\n",
      "       [ 0.,  2.]]))\n"
     ]
    },
    {
     "data": {
      "image/png": "[encoded data removed]",
      "text/plain": [
       "<matplotlib.figure.Figure at 0x119435ed0>"
      ]
     },
     "metadata": {},
     "output_type": "display_data"
    },
    {
     "data": {
      "image/png": "[encoded data removed]",
      "text/plain": [
       "<matplotlib.figure.Figure at 0x119492f50>"
      ]
     },
     "metadata": {},
     "output_type": "display_data"
    }
   ],
   "source": [
    "import numpy as np\n",
    "\n",
    "# Covariance matrices\n",
    "cov_mats = {}\n",
    "for i in range(1,4):\n",
    "    cov_mats[i] = i * np.eye(2)\n",
    "\n",
    "# mean vectors    \n",
    "mu_vecs = {}\n",
    "for i,j in zip(range(1,4), [[0,0], [3,0], [4,5]]):\n",
    "    mu_vecs[i] = np.array(j).reshape(2,1)\n",
    "# Example for accessing parameters, e.g., mu_vec and cov_mat for class2\n",
    "print('mu_vec2\\n', mu_vecs[2])\n",
    "print('cov_mat2\\n', cov_mats[2])\n",
    "# Generating the random samples\n",
    "all_samples = {}\n",
    "for i in range(1,4):\n",
    "    # generating 40x2 dimensional arrays with random Gaussian-distributed samples\n",
    "    class_samples = np.random.multivariate_normal(mu_vecs[i].ravel(), cov_mats[i], 40)\n",
    "    # adding class label to 3rd column\n",
    "    class_samples = np.append(class_samples, np.zeros((40,1))+i, axis=1)\n",
    "    all_samples[i] = class_samples\n",
    "# Dividing the samples into training and test datasets\n",
    "train_set = np.append(all_samples[1][0:20], all_samples[2][0:20], axis=0)\n",
    "train_set = np.append(train_set, all_samples[3][0:20], axis=0)\n",
    "\n",
    "test_set = np.append(all_samples[1][20:40], all_samples[2][20:40], axis=0)\n",
    "test_set = np.append(test_set, all_samples[3][20:40], axis=0)\n",
    "\n",
    "assert(train_set.shape == (60, 3))\n",
    "assert(test_set.shape == (60, 3))\n",
    "# Visualizing samples by plotting them in a scatter plot\n",
    "\n",
    "import numpy as np\n",
    "from matplotlib import pyplot as plt\n",
    "\n",
    "for dset,title in zip((test_set, train_set), ['Test', 'Training']):\n",
    "    f, ax = plt.subplots(figsize=(7, 7))\n",
    "    ax.scatter(dset[dset[:,2] == 1][:,0], dset[dset[:,2] == 1][:,1], \\\n",
    "           marker='o', color='green', s=40, alpha=0.5, label='$\\omega_1$')\n",
    "    ax.scatter(dset[dset[:,2] == 2][:,0], dset[dset[:,2] == 2][:,1], \\\n",
    "           marker='^', color='red', s=40, alpha=0.5, label='$\\omega_2$')\n",
    "    ax.scatter(dset[dset[:,2] == 3][:,0], dset[dset[:,2] == 3][:,1], \\\n",
    "           marker='s', color='blue', s=40, alpha=0.5, label='$\\omega_3$')\n",
    "    plt.legend(loc='upper right')\n",
    "    plt.title('{} Dataset'.format(title), size=20)\n",
    "    plt.ylabel('$x_2$', size=20)\n",
    "    plt.xlabel('$x_1$', size=20)\n",
    "plt.show()"
   ]
  },
  {
   "cell_type": "code",
   "execution_count": 60,
   "metadata": {
    "collapsed": false
   },
   "outputs": [
    {
     "name": "stdout",
     "output_type": "stream",
     "text": [
      "[[ 5.15868596  1.55774638  2.        ]\n",
      " [ 5.53207376 -1.32745122  2.        ]\n",
      " [ 4.04837649  0.0814979   2.        ]\n",
      " [ 6.07098874 -0.59832213  2.        ]\n",
      " [ 4.50335947  0.58556578  2.        ]\n",
      " [ 1.05059669 -1.01635769  2.        ]\n",
      " [ 0.61282012 -1.22659228  2.        ]\n",
      " [ 5.32137473 -1.55163781  2.        ]\n",
      " [ 6.03048064  1.11905348  2.        ]\n",
      " [ 2.37665067  0.71489849  2.        ]\n",
      " [ 1.54983152  2.08281886  2.        ]\n",
      " [ 0.95195456  0.49880722  2.        ]\n",
      " [ 3.48168885  2.08905043  2.        ]\n",
      " [ 3.17941661 -0.18942475  2.        ]\n",
      " [ 3.6318195  -0.72272172  2.        ]\n",
      " [ 4.16688793 -0.58600429  2.        ]\n",
      " [ 3.56687611 -1.10490288  2.        ]\n",
      " [ 1.50476699  1.15065566  2.        ]\n",
      " [ 2.98521021 -2.39426705  2.        ]\n",
      " [ 1.95432138 -1.68239596  2.        ]]\n",
      "[[ 5.15868596  5.53207376  4.04837649  6.07098874  4.50335947  1.05059669\n",
      "   0.61282012  5.32137473  6.03048064  2.37665067  1.54983152  0.95195456\n",
      "   3.48168885  3.17941661  3.6318195   4.16688793  3.56687611  1.50476699\n",
      "   2.98521021  1.95432138]\n",
      " [ 1.55774638 -1.32745122  0.0814979  -0.59832213  0.58556578 -1.01635769\n",
      "  -1.22659228 -1.55163781  1.11905348  0.71489849  2.08281886  0.49880722\n",
      "   2.08905043 -0.18942475 -0.72272172 -0.58600429 -1.10490288  1.15065566\n",
      "  -2.39426705 -1.68239596]]\n",
      "[-0.55811682  0.55544875]\n",
      "[-2.25931588 -0.9754474 ]\n",
      "[-0.83163414  0.99578913]\n",
      "[ 0.48659905  0.81667209]\n",
      "[ 1.51536366  0.32378781]\n",
      "[ 0.04565884 -0.06795789]\n",
      "[ 0.7133131   0.25957741]\n",
      "[ 1.58193274 -0.96739542]\n",
      "[-0.15741488  0.43325973]\n",
      "[-1.01785269 -0.79823314]\n",
      "[ 2.15905334  0.84269518]\n",
      "[ 0.35127257 -0.47935104]\n",
      "[-0.06052084 -0.95430623]\n",
      "[ 0.16028196 -0.15159179]\n",
      "[ 1.29905201  0.26878643]\n",
      "[ 0.74987612 -1.08163688]\n",
      "[-0.41984422  0.64044047]\n",
      "[ 0.94923791 -0.01785008]\n",
      "[ 0.9966367   1.68316551]\n",
      "[-0.81293386 -0.67456712]\n",
      "[ 3.52557255  0.47138751]\n",
      "[ 2.92021057 -0.3553654 ]\n",
      "[ 2.44684514 -0.21485437]\n",
      "[ 2.17927399 -1.04717001]\n",
      "[ 2.94473464 -0.51335421]\n",
      "[ 1.85171608 -0.07449164]\n",
      "[ 0.52477583 -1.61927681]\n",
      "[ 2.9418962   1.55802948]\n",
      "[ 5.56407835 -0.01089276]\n",
      "[ 3.72623657 -0.57203064]\n",
      "[ 4.25952973  1.30717944]\n",
      "[ 1.49758368 -0.10043756]\n",
      "[ 2.887998   -2.09086922]\n",
      "[ 4.35169367 -0.44772534]\n",
      "[ 5.36370886  0.61159881]\n",
      "[ 1.46652943 -1.49967631]\n",
      "[ 4.98075541 -0.38924021]\n",
      "[ 3.87040768  0.1206364 ]\n",
      "[ 3.95553922 -1.79853945]\n",
      "[ 2.34954074  3.34235836]\n",
      "[ 2.90163966  6.52304094]\n",
      "[ 5.76329967  2.89059393]\n",
      "[ 5.29074778  6.91498564]\n",
      "[ 4.20428829  6.71899902]\n",
      "[ 3.21643734  6.99762392]\n",
      "[ 0.73078873  3.13319086]\n",
      "[ 3.97011585  4.47138584]\n",
      "[ 5.54937101  3.62542178]\n",
      "[ 3.92477868  4.54623127]\n",
      "[ 3.9925345   4.92799043]\n",
      "[ 3.6029355   5.99052275]\n",
      "[-2.00835942  6.66028927]\n",
      "[ 5.14205647  5.04979367]\n",
      "[ 4.52043665  5.72093332]\n",
      "[ 6.47074163  5.24070568]\n",
      "[ 3.73976727  7.52668195]\n",
      "[ 4.42350155  4.30962819]\n",
      "[ 4.2983872   6.71823267]\n",
      "[ 4.82542848  6.54156495]\n",
      "[ 6.28819196  4.05109658]\n",
      "{1: {1: 16, 2: 4, 3: 0}, 2: {1: 1, 2: 18, 3: 1}, 3: {1: 0, 2: 1, 3: 19}} 0\n"
     ]
    }
   ],
   "source": [
    "from scipy.stats import kde\n",
    "class1_kde = kde.gaussian_kde(train_set[train_set[:,2] == 1].T[0:2],\n",
    "        bw_method='scott')\n",
    "reshape = []\n",
    "for i in range(len(train_set)):\n",
    "    reshape.append(train_set[i][:2])\n",
    "\n",
    "print train_set[train_set[:,2] == 2]\n",
    "print train_set[train_set[:,2] == 2].T[:2]\n",
    "reshape = np.array(reshape)\n",
    "class2_kde = kde.gaussian_kde(train_set[train_set[:,2] == 2].T[0:2],\n",
    "        bw_method='scott')\n",
    "class3_kde = kde.gaussian_kde(train_set[train_set[:,2] == 3].T[0:2],\n",
    "        bw_method='scott')\n",
    "\n",
    "classification_dict, error = empirical_error(test_set, [1,2,3], bayes_classifier, [[class1_kde, class2_kde, class3_kde]])\n",
    "print classification_dict, error"
   ]
  },
  {
   "cell_type": "code",
   "execution_count": null,
   "metadata": {
    "collapsed": true
   },
   "outputs": [],
   "source": []
  }
 ],
 "metadata": {
  "kernelspec": {
   "display_name": "Python 2",
   "language": "python",
   "name": "python2"
  },
  "language_info": {
   "codemirror_mode": {
    "name": "ipython",
    "version": 2
   },
   "file_extension": ".py",
   "mimetype": "text/x-python",
   "name": "python",
   "nbconvert_exporter": "python",
   "pygments_lexer": "ipython2",
   "version": "2.7.13"
  }
 },
 "nbformat": 4,
 "nbformat_minor": 2
}
