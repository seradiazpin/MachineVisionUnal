{
 "cells": [
  {
   "cell_type": "markdown",
   "metadata": {},
   "source": [
    "<h1>TAREA 1 - Sergio Alejandro Diaz Pinilla</h1>\n",
    "<p>1.Implemente (busque) un código para determinar, en el caso de señales bidimensionales (imágenes), alguna de las siguientes transformadas:</p>\n",
    "  <li>Transformada de Hartley.</li>\n",
    "  <li>Transformada de Walsh-Hadamard.</li>\n",
    "\n",
    "<p>2. Analice detalladamente el comportamiento, de al menos cuatro de las transformadas estudiadas, cuando ellas son empleadas para compresión de imágenes. Utilice imágenes reales y sintéticas.</p>\n",
    "<p>3. Analice detalladamente el comportamiento, de al menos cuatro de las transformadas estudiadas, cuando ellas son empleadas para reducción de ruido en imágenes. Utilice imágenes reales y sintéticas.</p>\n",
    "<h1 style=\"font-size:100%; background-color:rgba(70, 0, 700, 0.2); color:black; text-align:center; line-height : 30px;\">\n",
    "Visión de Máquina &#8212; F. Prieto </h1>"
   ]
  },
  {
   "cell_type": "code",
   "execution_count": 2,
   "metadata": {
    "collapsed": false
   },
   "outputs": [
    {
     "name": "stdout",
     "output_type": "stream",
     "text": [
      "Listo\n"
     ]
    }
   ],
   "source": [
    "%matplotlib inline\n",
    "import cv2\n",
    "import time\n",
    "from IPython.display import Image\n",
    "import numpy as np\n",
    "from matplotlib import pyplot as plt\n",
    "from __future__ import division\n",
    "from scipy.fftpack import fft, fftfreq\n",
    "\n",
    "img = cv2.imread('Fig/luffy.png',0)\n",
    "print \"Listo\""
   ]
  },
  {
   "cell_type": "code",
   "execution_count": 1,
   "metadata": {
    "collapsed": false
   },
   "outputs": [
    {
     "name": "stdout",
     "output_type": "stream",
     "text": [
      "Inicio\n"
     ]
    },
    {
     "ename": "NameError",
     "evalue": "name 'img' is not defined",
     "output_type": "error",
     "traceback": [
      "\u001b[0;31m---------------------------------------------------------------------------\u001b[0m",
      "\u001b[0;31mNameError\u001b[0m                                 Traceback (most recent call last)",
      "\u001b[0;32m<ipython-input-1-0193d8d7781f>\u001b[0m in \u001b[0;36m<module>\u001b[0;34m()\u001b[0m\n\u001b[1;32m     10\u001b[0m \u001b[0;32mprint\u001b[0m \u001b[0;34m\"Inicio\"\u001b[0m\u001b[0;34m\u001b[0m\u001b[0m\n\u001b[1;32m     11\u001b[0m \u001b[0;34m\u001b[0m\u001b[0m\n\u001b[0;32m---> 12\u001b[0;31m \u001b[0mtrans\u001b[0m \u001b[0;34m=\u001b[0m \u001b[0mht\u001b[0m\u001b[0;34m(\u001b[0m\u001b[0mimg\u001b[0m\u001b[0;34m)\u001b[0m\u001b[0;34m\u001b[0m\u001b[0m\n\u001b[0m\u001b[1;32m     13\u001b[0m \u001b[0minv\u001b[0m \u001b[0;34m=\u001b[0m \u001b[0miht\u001b[0m\u001b[0;34m(\u001b[0m\u001b[0mtrans\u001b[0m\u001b[0;34m)\u001b[0m\u001b[0;34m\u001b[0m\u001b[0m\n\u001b[1;32m     14\u001b[0m \u001b[0;34m\u001b[0m\u001b[0m\n",
      "\u001b[0;31mNameError\u001b[0m: name 'img' is not defined"
     ]
    }
   ],
   "source": [
    "def ht(img):\n",
    "    f = np.fft.fft2(img)\n",
    "    fshift = np.fft.fftshift(f)\n",
    "    return fshift.real - fshift.imag\n",
    "\n",
    "def iht(img):\n",
    "    fshift = np.fft.ifftshift(img)\n",
    "    f = np.fft.ifft2(fshift)\n",
    "    return f.real + f.imag\n",
    "print \"Inicio\"\n",
    "\n",
    "trans = ht(img)\n",
    "inv = iht(trans)\n",
    "\n",
    "plt.figure(1)\n",
    "plt.subplot(221), plt.imshow(img, cmap=plt.cm.gray), plt.title('Imagen')\n",
    "plt.subplot(222), plt.imshow(trans, cmap=plt.cm.gray), plt.title('Harley')\n",
    "plt.subplot(223), plt.imshow(inv, cmap=plt.cm.gray), plt.title('Harley')\n",
    "plt.figure(2)\n",
    "plt.subplot(221), plt.imshow(img, cmap=plt.cm.gray), plt.title('Imagen')\n",
    "plt.subplot(222), plt.imshow(abs(trans), cmap=plt.cm.gray), plt.title('Harley')\n",
    "plt.subplot(223), plt.imshow(inv, cmap=plt.cm.gray), plt.title('Harley')\n"
   ]
  },
  {
   "cell_type": "code",
   "execution_count": null,
   "metadata": {
    "collapsed": false
   },
   "outputs": [
    {
     "name": "stdout",
     "output_type": "stream",
     "text": [
      "70\n"
     ]
    }
   ],
   "source": [
    "def FWHT(N):\n",
    "    # Fast Walsh-Hadamard Transform for 1D signals\n",
    "    # of length n=2^M only (non error-proof for now)\n",
    "    if(N == 0):\n",
    "        return [1]\n",
    "    if(N == 1):\n",
    "        return [[1, 1],[1 ,-1]]\n",
    "    \n",
    "    return 1/np.sqrt(2) * np.kron(FWHT(1), FWHT(N-1))\n",
    "\n",
    "size = len(img[:2][0])-1\n",
    "print size\n",
    "test2 = FWHT(size)\n",
    "#test3 = np.dot(test,test2)\n",
    "plt.figure(1)\n",
    "plt.subplot(221), plt.imshow(test, cmap=plt.cm.gray), plt.title('Imagen')\n",
    "plt.subplot(222), plt.imshow(test2, cmap=plt.cm.gray), plt.title('Harley')\n",
    "#plt.subplot(223), plt.imshow(test3, cmap=plt.cm.gray), plt.title('Harley')\n"
   ]
  },
  {
   "cell_type": "code",
   "execution_count": null,
   "metadata": {
    "collapsed": true
   },
   "outputs": [],
   "source": []
  }
 ],
 "metadata": {
  "kernelspec": {
   "display_name": "Python 2",
   "language": "python",
   "name": "python2"
  },
  "language_info": {
   "codemirror_mode": {
    "name": "ipython",
    "version": 2
   },
   "file_extension": ".py",
   "mimetype": "text/x-python",
   "name": "python",
   "nbconvert_exporter": "python",
   "pygments_lexer": "ipython2",
   "version": "2.7.13"
  }
 },
 "nbformat": 4,
 "nbformat_minor": 2
}
